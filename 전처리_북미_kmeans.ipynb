{
 "cells": [
  {
   "cell_type": "code",
   "execution_count": 1,
   "metadata": {},
   "outputs": [],
   "source": [
    "import pandas as pd\n",
    "import numpy as np\n",
    "\n",
    "data = pd.read_csv('review_usa.csv')"
   ]
  },
  {
   "cell_type": "code",
   "execution_count": 2,
   "metadata": {},
   "outputs": [
    {
     "name": "stdout",
     "output_type": "stream",
     "text": [
      "(12572, 12)\n",
      "Index(['ReviewerID', 'Review', 'splited_sentence', 'cleaned_sentence',\n",
      "       'detect_language', 'sentiment_result', 'negative', 'neutral',\n",
      "       'positive', 'Review Score', 'Review date', 'Review Like'],\n",
      "      dtype='object')\n"
     ]
    }
   ],
   "source": [
    "print(data.shape)\n",
    "print(data.columns)"
   ]
  },
  {
   "cell_type": "code",
   "execution_count": 3,
   "metadata": {},
   "outputs": [],
   "source": [
    "data['cleaned_sentence']\n",
    "df = data['cleaned_sentence']"
   ]
  },
  {
   "cell_type": "code",
   "execution_count": 4,
   "metadata": {},
   "outputs": [],
   "source": [
    "import re\n",
    "import nltk"
   ]
  },
  {
   "cell_type": "code",
   "execution_count": 5,
   "metadata": {},
   "outputs": [],
   "source": [
    "## 일단 이름이 너무 이상해서바꾸는 함수 만들기\n",
    "import pandas as pd\n",
    "import re\n",
    "import emoji\n",
    "\n",
    "# Define the substitution patterns\n",
    "substitutions = {\n",
    "    r'robot de Niro': 'Deniro',\n",
    "    r'De nitro': 'Deniro',\n",
    "    r'DeNiro': 'Deniro',\n",
    "    r'robot De nitro': 'Deniro',\n",
    "    r'robot de nitro': 'Deniro',\n",
    "    r'robot desire': 'Deniro',\n",
    "    r'hatchway\\'s': 'Hathaway',\n",
    "    r'anna pathway': 'Hathaway',\n",
    "    r'pathway': 'Hathaway',\n",
    "    r'Nancy Meyers': 'Nancy meter',\n",
    "    r'desire and pathway': 'Deniro and Hathaway',\n",
    "    r'anna and robot': 'Deniro and Hathaway',\n",
    "    r':':','\n",
    "\n",
    "}\n",
    "\n",
    "\n"
   ]
  },
  {
   "cell_type": "code",
   "execution_count": 6,
   "metadata": {},
   "outputs": [
    {
     "data": {
      "text/html": [
       "<div>\n",
       "<style scoped>\n",
       "    .dataframe tbody tr th:only-of-type {\n",
       "        vertical-align: middle;\n",
       "    }\n",
       "\n",
       "    .dataframe tbody tr th {\n",
       "        vertical-align: top;\n",
       "    }\n",
       "\n",
       "    .dataframe thead th {\n",
       "        text-align: right;\n",
       "    }\n",
       "</style>\n",
       "<table border=\"1\" class=\"dataframe\">\n",
       "  <thead>\n",
       "    <tr style=\"text-align: right;\">\n",
       "      <th></th>\n",
       "      <th>cleaned_sentence</th>\n",
       "    </tr>\n",
       "  </thead>\n",
       "  <tbody>\n",
       "    <tr>\n",
       "      <th>0</th>\n",
       "      <td>Wasn't what I expected.</td>\n",
       "    </tr>\n",
       "    <tr>\n",
       "      <th>1</th>\n",
       "      <td>Really enjoyed it.</td>\n",
       "    </tr>\n",
       "    <tr>\n",
       "      <th>2</th>\n",
       "      <td>Including the hope for redemption at the end.</td>\n",
       "    </tr>\n",
       "    <tr>\n",
       "      <th>3</th>\n",
       "      <td>A true feel good movie that I wish I saw in th...</td>\n",
       "    </tr>\n",
       "    <tr>\n",
       "      <th>4</th>\n",
       "      <td>anna pathway and robot desire have great chemi...</td>\n",
       "    </tr>\n",
       "    <tr>\n",
       "      <th>...</th>\n",
       "      <td>...</td>\n",
       "    </tr>\n",
       "    <tr>\n",
       "      <th>12567</th>\n",
       "      <td>This movie is a must see!</td>\n",
       "    </tr>\n",
       "    <tr>\n",
       "      <th>12568</th>\n",
       "      <td>There is no doubt in my mind that I will be wa...</td>\n",
       "    </tr>\n",
       "    <tr>\n",
       "      <th>12569</th>\n",
       "      <td>Overall I would consider the plot and story li...</td>\n",
       "    </tr>\n",
       "    <tr>\n",
       "      <th>12570</th>\n",
       "      <td>The popular film director, producer and screen...</td>\n",
       "    </tr>\n",
       "    <tr>\n",
       "      <th>12571</th>\n",
       "      <td>I hope you enjoy The Intern as much as I did.</td>\n",
       "    </tr>\n",
       "  </tbody>\n",
       "</table>\n",
       "<p>12572 rows × 1 columns</p>\n",
       "</div>"
      ],
      "text/plain": [
       "                                        cleaned_sentence\n",
       "0                                Wasn't what I expected.\n",
       "1                                     Really enjoyed it.\n",
       "2          Including the hope for redemption at the end.\n",
       "3      A true feel good movie that I wish I saw in th...\n",
       "4      anna pathway and robot desire have great chemi...\n",
       "...                                                  ...\n",
       "12567                          This movie is a must see!\n",
       "12568  There is no doubt in my mind that I will be wa...\n",
       "12569  Overall I would consider the plot and story li...\n",
       "12570  The popular film director, producer and screen...\n",
       "12571      I hope you enjoy The Intern as much as I did.\n",
       "\n",
       "[12572 rows x 1 columns]"
      ]
     },
     "execution_count": 6,
     "metadata": {},
     "output_type": "execute_result"
    }
   ],
   "source": [
    "df = pd.DataFrame(df)\n",
    "df\n"
   ]
  },
  {
   "cell_type": "code",
   "execution_count": 7,
   "metadata": {},
   "outputs": [
    {
     "name": "stdout",
     "output_type": "stream",
     "text": [
      "0                                  Wasn't what I expected.\n",
      "1                                       Really enjoyed it.\n",
      "2            Including the hope for redemption at the end.\n",
      "3        A true feel good movie that I wish I saw in th...\n",
      "4        Hathaway and Deniro have great chemistry and t...\n",
      "                               ...                        \n",
      "12567                            This movie is a must see!\n",
      "12568    There is no doubt in my mind that I will be wa...\n",
      "12569    Overall I would consider the plot and story li...\n",
      "12570    The popular film director, producer and screen...\n",
      "12571        I hope you enjoy The Intern as much as I did.\n",
      "Name: cleaned_sentence, Length: 12572, dtype: object\n"
     ]
    }
   ],
   "source": [
    "# Define a function to apply substitutions to a single sentence\n",
    "def replace_text(text):\n",
    "    if isinstance(text, str):  # Check if the input is a string\n",
    "        for pattern, replacement in substitutions.items():\n",
    "            text = re.sub(pattern, replacement, text, flags=re.IGNORECASE)\n",
    "        return text\n",
    "\n",
    "\n",
    "# Apply the substitutions and remove emojis\n",
    "df['cleaned_sentence'] = df['cleaned_sentence'].apply(replace_text)\n",
    "\n",
    "# Display the updated DataFrame\n",
    "print(df['cleaned_sentence'])"
   ]
  },
  {
   "cell_type": "code",
   "execution_count": 8,
   "metadata": {},
   "outputs": [],
   "source": [
    "## 피처 벡터화\n",
    "\n",
    "from nltk.stem import WordNetLemmatizer\n",
    "import nltk\n",
    "import string\n",
    "lemmar = WordNetLemmatizer()\n",
    "\n",
    "#토큰 lemmatize 해서 정규화하기\n",
    "def LemTokens(tokens):\n",
    "    return [lemmar.lemmatize(token) for token in tokens]\n",
    "\n",
    "#구두점 제거하기\n",
    "remove_punct_dict = dict((ord(punct), None) for punct in string.punctuation)\n",
    "\n",
    "#특수 문자 제거 및 단어 원형 추출!!\n",
    "\n",
    "def LemNormalize(text):\n",
    "    text_new = text.lower().translate(remove_punct_dict) #텍스트 소문자 변경 후 특수 문자 제거하기\n",
    "    \n",
    "    word_tokens = nltk.word_tokenize(text_new)  #단어로 토큰화\n",
    "    \n",
    "    return LemTokens(word_tokens) #단어 원형 추출\n",
    "    \n",
    "\n"
   ]
  },
  {
   "cell_type": "code",
   "execution_count": 9,
   "metadata": {},
   "outputs": [],
   "source": [
    "from sklearn.feature_extraction.text import TfidfVectorizer\n",
    "\n",
    "tfidf_vect = TfidfVectorizer(stop_words='english', ngram_range=(1,2), \n",
    "                             tokenizer = LemNormalize, min_df=0.05, max_df=0.85)\n"
   ]
  },
  {
   "cell_type": "code",
   "execution_count": 10,
   "metadata": {},
   "outputs": [],
   "source": [
    "cleaned_sentences = df['cleaned_sentence'].apply(lambda x: str(x) if isinstance(x, (str, bytes)) else '')"
   ]
  },
  {
   "cell_type": "code",
   "execution_count": 11,
   "metadata": {},
   "outputs": [
    {
     "data": {
      "text/plain": [
       "0                                  Wasn't what I expected.\n",
       "1                                       Really enjoyed it.\n",
       "2            Including the hope for redemption at the end.\n",
       "3        A true feel good movie that I wish I saw in th...\n",
       "4        Hathaway and Deniro have great chemistry and t...\n",
       "                               ...                        \n",
       "12567                            This movie is a must see!\n",
       "12568    There is no doubt in my mind that I will be wa...\n",
       "12569    Overall I would consider the plot and story li...\n",
       "12570    The popular film director, producer and screen...\n",
       "12571        I hope you enjoy The Intern as much as I did.\n",
       "Name: cleaned_sentence, Length: 12572, dtype: object"
      ]
     },
     "execution_count": 11,
     "metadata": {},
     "output_type": "execute_result"
    }
   ],
   "source": [
    "cleaned_sentences"
   ]
  },
  {
   "cell_type": "code",
   "execution_count": 12,
   "metadata": {},
   "outputs": [],
   "source": [
    "# 이모지 제거하는 함수\n",
    "def remove_emoji(text):\n",
    "    emoji_pattern = re.compile(\"[\"\n",
    "                               u\"\\U0001F600-\\U0001F64F\"  # Emoticons\n",
    "                               u\"\\U0001F300-\\U0001F5FF\"  # Symbols & Pictographs\n",
    "                               u\"\\U0001F680-\\U0001F6FF\"  # Transport & Map Symbols\n",
    "                               u\"\\U0001F1E0-\\U0001F1FF\"  # Flags (iOS)\n",
    "                               u\"\\U00002500-\\U00002BEF\"  # Chinese/Japanese/Korean characters\n",
    "                               u\"\\U00002702-\\U000027B0\"\n",
    "                               u\"\\U00002702-\\U000027B0\"\n",
    "                               u\"\\U000024C2-\\U0001F251\"\n",
    "                               u\"\\U0001f926-\\U0001f937\"\n",
    "                               u\"\\U00010000-\\U0010ffff\"\n",
    "                               u\"\\u2640-\\u2642\" \n",
    "                               u\"\\u2600-\\u2B55\"\n",
    "                               u\"\\u200d\"\n",
    "                               u\"\\u23cf\"\n",
    "                               u\"\\u23e9\"\n",
    "                               u\"\\u231a\"\n",
    "                               u\"\\ufe0f\"  # dingbats\n",
    "                               u\"\\u3030\"\n",
    "                               \"]+\", flags=re.UNICODE)\n",
    "    return emoji_pattern.sub(r'', text)\n",
    "\n",
    "cleaned_sentences = cleaned_sentences.apply(remove_emoji)"
   ]
  },
  {
   "cell_type": "code",
   "execution_count": 13,
   "metadata": {},
   "outputs": [
    {
     "name": "stdout",
     "output_type": "stream",
     "text": [
      "0\n"
     ]
    }
   ],
   "source": [
    "## 문자열이 아닌 행이 여전히 있나\n",
    "\n",
    "non_string_rows = cleaned_sentences.loc[~cleaned_sentences.apply(lambda x: isinstance(x, str))]\n",
    "print(len(non_string_rows))  #없다. \n"
   ]
  },
  {
   "cell_type": "code",
   "execution_count": 14,
   "metadata": {},
   "outputs": [
    {
     "name": "stderr",
     "output_type": "stream",
     "text": [
      "c:\\python\\Lib\\site-packages\\sklearn\\feature_extraction\\text.py:525: UserWarning: The parameter 'token_pattern' will not be used since 'tokenizer' is not None'\n",
      "  warnings.warn(\n",
      "c:\\python\\Lib\\site-packages\\sklearn\\feature_extraction\\text.py:408: UserWarning: Your stop_words may be inconsistent with your preprocessing. Tokenizing the stop words generated tokens ['ha', 'le', 'u', 'wa'] not in stop_words.\n",
      "  warnings.warn(\n"
     ]
    }
   ],
   "source": [
    "feature_vect = tfidf_vect.fit_transform(cleaned_sentences)"
   ]
  },
  {
   "cell_type": "code",
   "execution_count": 16,
   "metadata": {},
   "outputs": [
    {
     "data": {
      "image/png": "[encoded data removed]",
      "text/plain": [
       "<Figure size 640x480 with 1 Axes>"
      ]
     },
     "metadata": {},
     "output_type": "display_data"
    }
   ],
   "source": [
    "## 최적의 클러스터 개수 찾기\n",
    "from sklearn.cluster import KMeans\n",
    "import matplotlib.pyplot as plt\n",
    "def elbow(X):\n",
    "    sse = []\n",
    "    for i in range(1,25):\n",
    "        km = KMeans(n_clusters = i, init = 'k-means++', random_state=0)\n",
    "        km.fit(X)\n",
    "        sse.append(km.inertia_)\n",
    "    \n",
    "    plt.plot(range(1,25), sse, marker='o')\n",
    "    plt.xlabel('num of clusters')\n",
    "    plt.ylabel('SSE')\n",
    "    plt.show()\n",
    "\n",
    "elbow(feature_vect)"
   ]
  },
  {
   "cell_type": "code",
   "execution_count": 17,
   "metadata": {},
   "outputs": [],
   "source": [
    "# KMeans: 20\n",
    "km_cluster = KMeans(n_clusters=20, max_iter=10000, random_state=0)\n",
    "km_cluster.fit(feature_vect)\n",
    "\n",
    "# cluster 및 중심 좌표 정보\n",
    "cluster_label = km_cluster.labels_\n",
    "cluster_centers = km_cluster.cluster_centers_\n",
    "\n",
    "# cluster 라벨 추가\n",
    "df['cleaned_sentence'] = cleaned_sentences\n",
    "df['cluster_label'] = cluster_label"
   ]
  },
  {
   "cell_type": "code",
   "execution_count": null,
   "metadata": {},
   "outputs": [],
   "source": []
  }
 ],
 "metadata": {
  "kernelspec": {
   "display_name": "Python 3",
   "language": "python",
   "name": "python3"
  },
  "language_info": {
   "codemirror_mode": {
    "name": "ipython",
    "version": 3
   },
   "file_extension": ".py",
   "mimetype": "text/x-python",
   "name": "python",
   "nbconvert_exporter": "python",
   "pygments_lexer": "ipython3",
   "version": "3.12.2"
  }
 },
 "nbformat": 4,
 "nbformat_minor": 2
}
